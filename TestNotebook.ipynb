{
  "nbformat": 4,
  "nbformat_minor": 0,
  "metadata": {
    "colab": {
      "name": "TestNotebook.ipynb",
      "provenance": [],
      "toc_visible": true,
      "authorship_tag": "ABX9TyPt4rnSayrAjQEdhfwlqu/P",
      "include_colab_link": true
    },
    "kernelspec": {
      "name": "python3",
      "display_name": "Python 3"
    },
    "language_info": {
      "name": "python"
    }
  },
  "cells": [
    {
      "cell_type": "markdown",
      "metadata": {
        "id": "view-in-github",
        "colab_type": "text"
      },
      "source": [
        "<a href=\"https://colab.research.google.com/github/AliMoradiAfrapoli/jupyter/blob/master/TestNotebook.ipynb\" target=\"_parent\"><img src=\"https://colab.research.google.com/assets/colab-badge.svg\" alt=\"Open In Colab\"/></a>"
      ]
    },
    {
      "cell_type": "markdown",
      "metadata": {
        "id": "iaBmHQMUvOIN"
      },
      "source": [
        "# This is the First Colab Project\n",
        "_started and worked on by me_\n",
        "\n",
        "\n",
        "May 15, 2021\n"
      ]
    },
    {
      "cell_type": "code",
      "metadata": {
        "id": "oHj0yaoRvfiy"
      },
      "source": [
        "import pandas as pd\n",
        "import numpy as np\n",
        "import sklearn as sl"
      ],
      "execution_count": 5,
      "outputs": []
    },
    {
      "cell_type": "markdown",
      "metadata": {
        "id": "c6HT_5w9wf0w"
      },
      "source": [
        "**I want to try it to see how it works**\n",
        "\n",
        "However, the best possible thing to work with here is to try a project."
      ]
    },
    {
      "cell_type": "code",
      "metadata": {
        "id": "AxoOYVesw6LO"
      },
      "source": [
        ""
      ],
      "execution_count": null,
      "outputs": []
    },
    {
      "cell_type": "markdown",
      "metadata": {
        "id": "n6fRhPj1w-Jw"
      },
      "source": [
        "# First heading"
      ]
    },
    {
      "cell_type": "code",
      "metadata": {
        "id": "4OeX1P-RxDMN"
      },
      "source": [
        ""
      ],
      "execution_count": null,
      "outputs": []
    },
    {
      "cell_type": "code",
      "metadata": {
        "id": "JxOTJs7aweOn"
      },
      "source": [
        ""
      ],
      "execution_count": null,
      "outputs": []
    }
  ]
}